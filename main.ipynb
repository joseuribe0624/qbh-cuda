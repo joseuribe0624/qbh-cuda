{
 "cells": [
  {
   "cell_type": "markdown",
   "metadata": {},
   "source": [
    "# Imports"
   ]
  },
  {
   "cell_type": "code",
   "execution_count": 38,
   "metadata": {},
   "outputs": [],
   "source": [
    "import pycuda.autoinit\n",
    "import pycuda.driver as drv\n",
    "from pycuda import gpuarray\n",
    "from time import time\n",
    "import numpy as np\n",
    "import matplotlib.pyplot as plt\n",
    "from pycuda.compiler import SourceModule\n",
    "import pyaudio\n",
    "import wave\n",
    "from datetime import datetime\n",
    "import ipywidgets as widgets\n",
    "from IPython.display import clear_output\n",
    "import sounddevice as sd\n",
    "from scipy.io import wavfile\n",
    "from math import ceil\n",
    "from time import time"
   ]
  },
  {
   "cell_type": "markdown",
   "metadata": {},
   "source": [
    "# Enviroment"
   ]
  },
  {
   "cell_type": "code",
   "execution_count": 41,
   "metadata": {},
   "outputs": [
    {
     "name": "stdout",
     "output_type": "stream",
     "text": [
      "Capacidad: 5.0\n",
      "Memoria: 1031471104\n",
      "\n",
      "ASYNC_ENGINE_COUNT: 1\n",
      "CAN_MAP_HOST_MEMORY: 1\n",
      "CLOCK_RATE: 860500\n",
      "COMPUTE_CAPABILITY_MAJOR: 5\n",
      "COMPUTE_CAPABILITY_MINOR: 0\n",
      "COMPUTE_MODE: DEFAULT\n",
      "CONCURRENT_KERNELS: 1\n",
      "ECC_ENABLED: 0\n",
      "GLOBAL_L1_CACHE_SUPPORTED: 0\n",
      "GLOBAL_MEMORY_BUS_WIDTH: 64\n",
      "GPU_OVERLAP: 1\n",
      "INTEGRATED: 0\n",
      "KERNEL_EXEC_TIMEOUT: 1\n",
      "L2_CACHE_SIZE: 1048576\n",
      "LOCAL_L1_CACHE_SUPPORTED: 1\n",
      "MANAGED_MEMORY: 1\n",
      "MAXIMUM_SURFACE1D_LAYERED_LAYERS: 2048\n",
      "MAXIMUM_SURFACE1D_LAYERED_WIDTH: 16384\n",
      "MAXIMUM_SURFACE1D_WIDTH: 16384\n",
      "MAXIMUM_SURFACE2D_HEIGHT: 65536\n",
      "MAXIMUM_SURFACE2D_LAYERED_HEIGHT: 16384\n",
      "MAXIMUM_SURFACE2D_LAYERED_LAYERS: 2048\n",
      "MAXIMUM_SURFACE2D_LAYERED_WIDTH: 16384\n",
      "MAXIMUM_SURFACE2D_WIDTH: 65536\n",
      "MAXIMUM_SURFACE3D_DEPTH: 4096\n",
      "MAXIMUM_SURFACE3D_HEIGHT: 4096\n",
      "MAXIMUM_SURFACE3D_WIDTH: 4096\n",
      "MAXIMUM_SURFACECUBEMAP_LAYERED_LAYERS: 2046\n",
      "MAXIMUM_SURFACECUBEMAP_LAYERED_WIDTH: 16384\n",
      "MAXIMUM_SURFACECUBEMAP_WIDTH: 16384\n",
      "MAXIMUM_TEXTURE1D_LAYERED_LAYERS: 2048\n",
      "MAXIMUM_TEXTURE1D_LAYERED_WIDTH: 16384\n",
      "MAXIMUM_TEXTURE1D_LINEAR_WIDTH: 134217728\n",
      "MAXIMUM_TEXTURE1D_MIPMAPPED_WIDTH: 16384\n",
      "MAXIMUM_TEXTURE1D_WIDTH: 65536\n",
      "MAXIMUM_TEXTURE2D_ARRAY_HEIGHT: 16384\n",
      "MAXIMUM_TEXTURE2D_ARRAY_NUMSLICES: 2048\n",
      "MAXIMUM_TEXTURE2D_ARRAY_WIDTH: 16384\n",
      "MAXIMUM_TEXTURE2D_GATHER_HEIGHT: 16384\n",
      "MAXIMUM_TEXTURE2D_GATHER_WIDTH: 16384\n",
      "MAXIMUM_TEXTURE2D_HEIGHT: 65536\n",
      "MAXIMUM_TEXTURE2D_LINEAR_HEIGHT: 65536\n",
      "MAXIMUM_TEXTURE2D_LINEAR_PITCH: 1048544\n",
      "MAXIMUM_TEXTURE2D_LINEAR_WIDTH: 65536\n",
      "MAXIMUM_TEXTURE2D_MIPMAPPED_HEIGHT: 16384\n",
      "MAXIMUM_TEXTURE2D_MIPMAPPED_WIDTH: 16384\n",
      "MAXIMUM_TEXTURE2D_WIDTH: 65536\n",
      "MAXIMUM_TEXTURE3D_DEPTH: 4096\n",
      "MAXIMUM_TEXTURE3D_DEPTH_ALTERNATE: 16384\n",
      "MAXIMUM_TEXTURE3D_HEIGHT: 4096\n",
      "MAXIMUM_TEXTURE3D_HEIGHT_ALTERNATE: 2048\n",
      "MAXIMUM_TEXTURE3D_WIDTH: 4096\n",
      "MAXIMUM_TEXTURE3D_WIDTH_ALTERNATE: 2048\n",
      "MAXIMUM_TEXTURECUBEMAP_LAYERED_LAYERS: 2046\n",
      "MAXIMUM_TEXTURECUBEMAP_LAYERED_WIDTH: 16384\n",
      "MAXIMUM_TEXTURECUBEMAP_WIDTH: 16384\n",
      "MAX_BLOCK_DIM_X: 1024\n",
      "MAX_BLOCK_DIM_Y: 1024\n",
      "MAX_BLOCK_DIM_Z: 64\n",
      "MAX_GRID_DIM_X: 2147483647\n",
      "MAX_GRID_DIM_Y: 65535\n",
      "MAX_GRID_DIM_Z: 65535\n",
      "MAX_PITCH: 2147483647\n",
      "MAX_REGISTERS_PER_BLOCK: 65536\n",
      "MAX_REGISTERS_PER_MULTIPROCESSOR: 65536\n",
      "MAX_SHARED_MEMORY_PER_BLOCK: 49152\n",
      "MAX_SHARED_MEMORY_PER_MULTIPROCESSOR: 65536\n",
      "MAX_THREADS_PER_BLOCK: 1024\n",
      "MAX_THREADS_PER_MULTIPROCESSOR: 2048\n",
      "MEMORY_CLOCK_RATE: 2505000\n",
      "MULTIPROCESSOR_COUNT: 4\n",
      "MULTI_GPU_BOARD: 0\n",
      "MULTI_GPU_BOARD_GROUP_ID: 0\n",
      "PCI_BUS_ID: 1\n",
      "PCI_DEVICE_ID: 0\n",
      "PCI_DOMAIN_ID: 0\n",
      "STREAM_PRIORITIES_SUPPORTED: 1\n",
      "SURFACE_ALIGNMENT: 512\n",
      "TCC_DRIVER: 0\n",
      "TEXTURE_ALIGNMENT: 512\n",
      "TEXTURE_PITCH_ALIGNMENT: 32\n",
      "TOTAL_CONSTANT_MEMORY: 65536\n",
      "UNIFIED_ADDRESSING: 1\n",
      "WARP_SIZE: 32\n"
     ]
    }
   ],
   "source": [
    "gpu_device = drv.Device(0)\n",
    "compute_capability = float(\"%d.%d\" % gpu_device.compute_capability())\n",
    "print(\"Capacidad: {}\".format(compute_capability))\n",
    "print(\"Memoria: {}\".format(gpu_device.total_memory()))\n",
    "print()\n",
    "attr_GPU = gpu_device.get_attributes().items()\n",
    "for k, v in attr_GPU:\n",
    "    print(\"{}: {}\".format(k, v))"
   ]
  },
  {
   "cell_type": "markdown",
   "metadata": {},
   "source": [
    "# Query-by-Humming: GPU Accelerated Melody Accurate Matching "
   ]
  },
  {
   "cell_type": "code",
   "execution_count": 28,
   "metadata": {
    "scrolled": true
   },
   "outputs": [],
   "source": [
    "mod = SourceModule(\"\"\"\n",
    " #define min(a,b) \\\n",
    "   ({ __typeof__ (a) _a = (a); \\\n",
    "       __typeof__ (b) _b = (b); \\\n",
    "     _a > _b ? _b : _a; })\n",
    "\n",
    "__global__ void dtw_p(float *D, float *Q, float *P, int M, int stage){\n",
    "    const int j = stage;\n",
    "    const int i = threadIdx.x;\n",
    "    // int idx = M*j+i;\n",
    "    int tx = blockIdx.x*blockDim.x + threadIdx.x;\n",
    "    if ((i >= 2 && blockIdx.x < 1 && tx < M) || (blockIdx.x > 0 && tx < M)) {\n",
    "        int idx = M*stage + tx;\n",
    "        int trie_1 = M*(stage - 1) + blockIdx.x*blockDim.x + threadIdx.x - 2;\n",
    "        int trie_2 = M*(stage - 1) + blockIdx.x*blockDim.x + threadIdx.x - 1;\n",
    "        int trie_3 = M*(stage - 2) + blockIdx.x*blockDim.x + threadIdx.x - 1;\n",
    "        float cost = abs(P[j-1] - Q[i-1]);\n",
    "        float minimun = min(D[trie_1], min(D[trie_2], D[trie_3]));\n",
    "        D[idx] = cost + minimun;\n",
    "    }\n",
    "}\n",
    "\"\"\")\n",
    "\n",
    "dtw_p = mod.get_function(\"dtw_p\")"
   ]
  },
  {
   "cell_type": "code",
   "execution_count": 29,
   "metadata": {},
   "outputs": [],
   "source": [
    "def matprint(mat, fmt=\"g\"):\n",
    "    col_maxes = [max([len((\"{:\"+fmt+\"}\").format(x)) for x in col]) for col in mat.T]\n",
    "    for x in mat:\n",
    "        for i, y in enumerate(x):\n",
    "            print((\"{:\"+str(col_maxes[i])+fmt+\"}\").format(y), end=\"  \")\n",
    "        print(\"\")"
   ]
  },
  {
   "cell_type": "code",
   "execution_count": 30,
   "metadata": {},
   "outputs": [],
   "source": [
    "def PDTW(Q, P):\n",
    "    M = len(Q) + 1\n",
    "    T = len(P) + 1\n",
    "    D = np.empty((T, M), dtype = np.float32)\n",
    "    D[0][0] = 0\n",
    "    for i in range(1, M):\n",
    "        if i > 1:\n",
    "            D[1][i] = np.Inf\n",
    "        D[0][i] = np.Inf\n",
    "    for j in range(1, T):\n",
    "        D[j][0] = np.Inf\n",
    "        D[j][1] = abs(P[j-1]- Q[0])\n",
    "    \n",
    "    D_gpu = gpuarray.to_gpu(D)\n",
    "    Q_gpu = gpuarray.to_gpu(Q)\n",
    "    P_gpu = gpuarray.to_gpu(P)\n",
    "\n",
    "    for j in range(2, T):\n",
    "        dtw_p(D_gpu, Q_gpu, P_gpu, np.int32(M), np.int32(j), block=(min(M, 1024), 1, 1), grid=(ceil(M/1024),1))\n",
    "    \n",
    "    D = D_gpu.get()\n",
    "    \n",
    "    best = float(\"inf\")\n",
    "    for i in range(1, M):\n",
    "        best = min(best, D[T-1][i])\n",
    "        \n",
    "    return best"
   ]
  },
  {
   "cell_type": "code",
   "execution_count": 31,
   "metadata": {},
   "outputs": [],
   "source": [
    "def DTW(Q, P):\n",
    "    M = len(Q) + 1\n",
    "    T = len(P) + 1\n",
    "    D = np.empty((T, M), dtype = np.float32)\n",
    "    D[0][0] = 0\n",
    "    for i in range(1, M):\n",
    "        if i > 1:\n",
    "            D[1][i] = np.Inf\n",
    "        D[0][i] = np.Inf\n",
    "    for j in range(1, T):\n",
    "        D[j][0] = np.Inf\n",
    "        D[j][1] = abs(P[j-1]- Q[0])\n",
    "\n",
    "    for j in range(2, T):\n",
    "        for i in range(2, M):\n",
    "            D[j][i] = abs(P[j-1] - Q[i-1]) + min(D[j-1][i-2], D[j-1][i-1], D[j-2][i-1])\n",
    "    \n",
    "    best = float(\"inf\")\n",
    "    for i in range(1, M):\n",
    "        best = min(best, D[T-1][i])\n",
    "        \n",
    "    return best"
   ]
  },
  {
   "cell_type": "code",
   "execution_count": 32,
   "metadata": {},
   "outputs": [],
   "source": [
    "def PQBH(Q, dataset):\n",
    "    melody_simily_list = []\n",
    "    for song in dataset:\n",
    "        P = song[\"P\"]\n",
    "        span = np.float32(10)\n",
    "        smin = float(\"inf\")\n",
    "        smiddle = PDTW(Q, P)\n",
    "        while span > 0.001:\n",
    "            sleft = PDTW(Q, P - span)\n",
    "            srigth = PDTW(Q, P + span)\n",
    "            smin = min(sleft, smiddle, srigth)\n",
    "            span /= 2\n",
    "        melody_simily_list.append((song[\"song\"], smin,))\n",
    "    melody_simily_list.sort(key = lambda candiate: candiate[1])\n",
    "    return melody_simily_list"
   ]
  },
  {
   "cell_type": "code",
   "execution_count": 33,
   "metadata": {},
   "outputs": [],
   "source": [
    "def QBH(Q, dataset):\n",
    "    melody_simily_list = []\n",
    "    for song in dataset:\n",
    "        P = song[\"P\"]\n",
    "        span = np.float32(10)\n",
    "        smin = float(\"inf\")\n",
    "        smiddle = DTW(Q, P)\n",
    "        while span > 0.001:\n",
    "            sleft = DTW(Q, P - span)\n",
    "            srigth = DTW(Q, P + span)\n",
    "            smin = min(sleft, smiddle, srigth)\n",
    "            span /= 2\n",
    "        melody_simily_list.append((song[\"song\"], smin,))\n",
    "    melody_simily_list.sort(key = lambda candiate: candiate[1])\n",
    "    return melody_simily_list"
   ]
  },
  {
   "cell_type": "code",
   "execution_count": 34,
   "metadata": {},
   "outputs": [],
   "source": [
    "def get_pitch_secuence(filepath, chunk=2048):\n",
    "    wf = wave.open(filepath)\n",
    "    swidth = wf.getsampwidth()\n",
    "    RATE = wf.getframerate()\n",
    "    # open stream\n",
    "    p = pyaudio.PyAudio()\n",
    "    stream = p.open(format =\n",
    "                    p.get_format_from_width(wf.getsampwidth()),\n",
    "                    channels = wf.getnchannels(),\n",
    "                    rate = RATE,\n",
    "                    output = True)\n",
    "\n",
    "    pitch_sequence = []\n",
    "\n",
    "    # read some data\n",
    "    data = wf.readframes(chunk)\n",
    "    # play stream and find the frequency of each chunk\n",
    "    while len(data) == chunk*swidth*wf.getnchannels():\n",
    "        # write data out to the audio stream\n",
    "        stream.write(data)\n",
    "        # unpack the data and times\n",
    "        indata = np.fromstring(data, dtype=\"int32\")\n",
    "        # Take the fft and square each value\n",
    "        fftData = abs(np.fft.rfft(indata))**2\n",
    "        # find the maximum\n",
    "        which = fftData[1:].argmax() + 1\n",
    "        # use quadratic interpolation around the max\n",
    "        if which != len(fftData)-1:\n",
    "            y0,y1,y2 = np.log(fftData[which-1:which+2:])\n",
    "            x1 = (y2 - y0) * .5 / (2 * y1 - y2 - y0)\n",
    "            # find the frequency and output it\n",
    "            freq = (which+x1)*RATE/chunk\n",
    "        else:\n",
    "            freq = which*RATE/chunk\n",
    "        if freq <= 0:\n",
    "            semitone = 69\n",
    "        else:\n",
    "            semitone = 12*np.log2(freq/440) + 69\n",
    "        pitch_sequence.append(semitone)\n",
    "        # read some more data\n",
    "        data = wf.readframes(chunk)\n",
    "    if data:\n",
    "        stream.write(data)\n",
    "    stream.close()\n",
    "    p.terminate()\n",
    "    \n",
    "    return np.array(pitch_sequence, dtype=np.float32)"
   ]
  },
  {
   "cell_type": "markdown",
   "metadata": {},
   "source": [
    "# Load database"
   ]
  },
  {
   "cell_type": "markdown",
   "metadata": {},
   "source": [
    "## Convert to pitch secuence"
   ]
  },
  {
   "cell_type": "code",
   "execution_count": 9,
   "metadata": {},
   "outputs": [
    {
     "name": "stderr",
     "output_type": "stream",
     "text": [
      "/home/carlos/.local/lib/python3.7/site-packages/ipykernel_launcher.py:22: DeprecationWarning: The binary mode of fromstring is deprecated, as it behaves surprisingly on unicode inputs. Use frombuffer instead\n"
     ]
    }
   ],
   "source": [
    "DATASET = []\n",
    "\n",
    "SONGS_PATH = [\n",
    "    \"music/californication_corte.wav\",\n",
    "    \"music/hotelcalifornia_corte.wav\",\n",
    "    \"music/paintblack_corte.wav\",\n",
    "    \"music/satisfaction_corte.wav\",\n",
    "    \"music/theweeknd_corte.wav\",\n",
    "    \"music/thunderstruck_corte.wav\"\n",
    "]\n",
    "\n",
    "for filepath in SONGS_PATH:\n",
    "    DATASET.append({\n",
    "        \"P\": get_pitch_secuence(filepath),\n",
    "        \"song\": filepath[6:]\n",
    "    })"
   ]
  },
  {
   "cell_type": "markdown",
   "metadata": {},
   "source": [
    "## Save pitch secuences"
   ]
  },
  {
   "cell_type": "code",
   "execution_count": 18,
   "metadata": {},
   "outputs": [],
   "source": [
    "with open(\"music/database.txt\", \"w+\") as f:\n",
    "    for song in DATASET:\n",
    "        print(song[\"song\"], len(song[\"P\"]), file=f)\n",
    "        for semitone in song[\"P\"]:\n",
    "            print(semitone, file=f)"
   ]
  },
  {
   "cell_type": "markdown",
   "metadata": {},
   "source": [
    "## Load picth secuences"
   ]
  },
  {
   "cell_type": "code",
   "execution_count": 23,
   "metadata": {},
   "outputs": [],
   "source": [
    "DATASET = []\n",
    "\n",
    "f = open(\"music/database.txt\", \"r\")\n",
    "line = f.readline()\n",
    "while line:\n",
    "    song, length = line.strip().split()\n",
    "    length = int(length)\n",
    "    P = np.zeros(length, dtype=np.float32)\n",
    "    for i in range(length):\n",
    "        P[i] = np.float32(f.readline().strip())\n",
    "    DATASET.append({\n",
    "        \"P\": P,\n",
    "        \"song\": song\n",
    "    })\n",
    "    line = f.readline()\n",
    "f.close()"
   ]
  },
  {
   "cell_type": "markdown",
   "metadata": {},
   "source": [
    "# Record Humming"
   ]
  },
  {
   "cell_type": "code",
   "execution_count": 40,
   "metadata": {
    "scrolled": true
   },
   "outputs": [
    {
     "data": {
      "application/vnd.jupyter.widget-view+json": {
       "model_id": "77b92595a3dd48a5be5a3604e94b3073",
       "version_major": 2,
       "version_minor": 0
      },
      "text/plain": [
       "HBox(children=(Button(button_style='danger', description='Record', icon='microphone', style=ButtonStyle()),))"
      ]
     },
     "metadata": {},
     "output_type": "display_data"
    },
    {
     "data": {
      "application/vnd.jupyter.widget-view+json": {
       "model_id": "989c6ceaa35a40af92b6e0f3a4744223",
       "version_major": 2,
       "version_minor": 0
      },
      "text/plain": [
       "Output()"
      ]
     },
     "metadata": {},
     "output_type": "display_data"
    }
   ],
   "source": [
    "record_button = widgets.Button(\n",
    "    description=\"Record\",\n",
    "    disabled=False,\n",
    "    button_style=\"danger\",\n",
    "    icon=\"microphone\"\n",
    ")\n",
    "output = widgets.Output()\n",
    "\n",
    "def recording(b):\n",
    "    with output:\n",
    "        clear_output()\n",
    "        record_time = time()\n",
    "        record_button.disabled = True\n",
    "        fs = 44100\n",
    "        seconds = 5\n",
    "        myrecord = sd.rec(\n",
    "            int(seconds*fs),\n",
    "            samplerate=fs,\n",
    "            channels=2,\n",
    "            dtype=np.int16\n",
    "        )\n",
    "        sd.wait()\n",
    "        filepath = \"hummings/hum_{}.wav\".format(datetime.today().strftime(\"%d_%m_%Y_%X\"))\n",
    "        wavfile.write(filepath, fs, myrecord)\n",
    "        Q = get_pitch_secuence(filepath)\n",
    "        record_time =  time() - record_time\n",
    "        \n",
    "        time_g = time()\n",
    "        print(PQBH(Q, DATASET))\n",
    "        GPU_time = time() - time_g + record_time\n",
    "        \n",
    "        time_c = time()\n",
    "        print(QBH(Q, DATASET))\n",
    "        CPU_time = time() - time_c + record_time\n",
    "        \n",
    "        print(\"Record time: {}\".format(record_time))\n",
    "        print(\"Speedup: {}\".format(CPU_time/GPU_time))\n",
    "        print(\"CPU time: {}\".format(CPU_time))\n",
    "        print(\"GPU time: {}\".format(GPU_time))\n",
    "        \n",
    "        record_button.disabled = False\n",
    "\n",
    "record_button.on_click(recording)\n",
    "display(widgets.HBox([record_button]))\n",
    "display(output)"
   ]
  },
  {
   "cell_type": "code",
   "execution_count": null,
   "metadata": {},
   "outputs": [],
   "source": []
  }
 ],
 "metadata": {
  "kernelspec": {
   "display_name": "Python 3",
   "language": "python",
   "name": "python3"
  },
  "language_info": {
   "codemirror_mode": {
    "name": "ipython",
    "version": 3
   },
   "file_extension": ".py",
   "mimetype": "text/x-python",
   "name": "python",
   "nbconvert_exporter": "python",
   "pygments_lexer": "ipython3",
   "version": "3.7.3"
  }
 },
 "nbformat": 4,
 "nbformat_minor": 4
}
